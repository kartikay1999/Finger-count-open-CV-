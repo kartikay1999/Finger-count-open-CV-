{
 "cells": [
  {
   "cell_type": "code",
   "execution_count": null,
   "metadata": {},
   "outputs": [],
   "source": [
    "import cv2\n",
    "import numpy as np\n",
    "\n",
    "from sklearn.metrics import pairwise"
   ]
  },
  {
   "cell_type": "code",
   "execution_count": null,
   "metadata": {},
   "outputs": [],
   "source": [
    "background=None\n",
    "\n",
    "accumulated_weight=0.5\n",
    "\n",
    "roi_top=20\n",
    "roi_bottom=100\n",
    "roi_right=400\n",
    "roi_left=400\n"
   ]
  },
  {
   "cell_type": "code",
   "execution_count": null,
   "metadata": {},
   "outputs": [],
   "source": [
    "def cal_accum_avg(frame,accumulated_weight):\n",
    "    global background\n",
    "    \n",
    "    if background is None:\n",
    "        background=frame.copy().astype('float')\n",
    "        return None\n",
    "    cv2.accumulateWeighted(frame,background,accumulated_weight)"
   ]
  },
  {
   "cell_type": "code",
   "execution_count": null,
   "metadata": {},
   "outputs": [],
   "source": [
    "def segment(frame,threshold_min=25):\n",
    "    \n",
    "    diff=cv2.absdiff(background.astype('uint8'),frame)\n",
    "    \n",
    "    ret,thresholded=cv2.threshold(diff,threshold_min,255,cv2.THRESH_BINARY)\n",
    "    \n",
    "    image,contours,heirarchy=cv2.findContours(thresholded.copy(),cv2.RETR_EXTERNAL,cv2.CHAIN_APPROX_SIMPLE)\n",
    "    \n",
    "    if len(contours)==0:\n",
    "        return None\n",
    "    else:\n",
    "        #assuming largest external contour in roi is hand\n",
    "        hand_segmnet=max(contours,key=cv2.contourArea)\n",
    "        \n",
    "        return (thresholded,hand_segmnet)"
   ]
  },
  {
   "cell_type": "code",
   "execution_count": null,
   "metadata": {},
   "outputs": [],
   "source": [
    "def count_fingers(thresholded,hand_segment):\n",
    "    \n",
    "    conv_hull=cv2.convexHull(hand_segment)\n",
    "    \n",
    "    \n",
    "    top=tuple(conv_hull[conv_hull[:,:,1].argmin()][0])\n",
    "    bottom=tuple(conv_hull[conv_hull[:,:,1].argmax()][0])\n",
    "    left=tuple(conv_hull[conv_hull[:,:,0].argmin()][0])\n",
    "    right=tuple(conv_hull[conv_hull[:,:,0].argmax()][0])\n",
    "    \n",
    "    cx=(left[0]+right[0])//2\n",
    "    cy=(top[1]+bottom[1])//2\n",
    "    \n",
    "    distance=pairwise.euclidean_distances([(cx,cy)],Y=[left,right,top,bottom])[0]\n",
    "    max_dist=distance.max()\n",
    "    \n",
    "    radius=int(0.9*max_dist)\n",
    "    circumference=(2*np.pi*radius)\n",
    "    \n",
    "    circular_roi=np.zeros(thresholded.shape[:2],dtype=\"uint8\")\n",
    "    \n",
    "    cv2.circle(circular_roi,(cx,cy),radius,255,10)\n",
    "    \n",
    "    circular_roi=cv2.bitwise_and(thresholded,thresholded,mask=circular_roi)\n",
    "    \n",
    "    image,contours,heirarchy=cv2.findContours(circular_roi.copy(),cv2.RETR_EXTERNAL,cv2.CHAIN_APPROX_SIMPLE)\n",
    "    \n",
    "    count=0\n",
    "    for cnt in contours:\n",
    "        \n",
    "        (x,y,w,h)=cv2.boundingRect(cnt)\n",
    "        out_of_wrist=(cy+(cy*0.25))>(y+h)\n",
    "        \n",
    "        limit_points=((circumference*25)>cnt.shape[0])\n",
    "        \n",
    "        if out_of_wrist and limit_points:\n",
    "            count+=1\n",
    "    return count"
   ]
  },
  {
   "cell_type": "code",
   "execution_count": null,
   "metadata": {},
   "outputs": [],
   "source": [
    "cam=cv2.VideoCapture(0)\n",
    "\n",
    "num_frame=0\n",
    "\n",
    "while True:\n",
    "    \n",
    "    \n",
    "    ret,frame=cam.read()\n",
    "    frame_copy=frame.copy()\n",
    "    roi=frame[roi_top:roi_bottom,roi_right:roi_left]\n",
    "    gray=cv2.cvtColor(roi,cv2.COLOR_BGR2GRAY)\n",
    "    \n",
    "    gray=cv2.GaussianBlur(gray,(7,7),0)\n",
    "    \n",
    "    if num_frame<60:\n",
    "        cal_accum_avg(gray,accumulated_weight)\n",
    "    if num_frame<=59:\n",
    "        cv2.putText(frame_copy,'WAIT, GETTING BACKGROUND',(200,300),cv2.FONT_HERSHEY_PLAIN,1,(0,0,255),2)\n",
    "        cv2.imshow('finger_count',frame_copy)\n",
    "    \n",
    "    else:\n",
    "        hand=segment(gray)\n",
    "        \n",
    "        if hand is not None:\n",
    "            thresholded,hand_segment= hand\n",
    "            #draw contours around real hand in live stream\n",
    "            cv2.drawContours(frame_copy,[hand_segment+ (roi_right,roi_top)],-1,(255,0,0),2)\n",
    "            fingers=count_fingers(thresholded,hand_segment)\n",
    "            cv2.putText(frame_copy,str(fingers),(70,45),cv2.FONT_HERSHEY_COMPLEX,1,(0,0,255),2)\n",
    "            \n",
    "            cv2.imshow('thresholded',thresholded)\n",
    "    cv2.rectangle(frame_copy,(roi_left,roi_top),(roi_right,roi_bottom),(0,0,255),5)\n",
    "    num_frame+=1\n",
    "    \n",
    "    cv2.imshow('finger count',frame_copy)\n",
    "    k=cv2.waitKey(1) & 0xFF\n",
    "    if k==27:\n",
    "        break\n",
    "cam.release()\n",
    "cv2.destroyAllWindows()"
   ]
  },
  {
   "attachments": {
    "hand_convex.png": {
     "image/png": "[encoded data removed]"
    }
   },
   "cell_type": "markdown",
   "metadata": {},
   "source": [
    "![hand_convex.png](attachment:hand_convex.png)"
   ]
  },
  {
   "cell_type": "code",
   "execution_count": null,
   "metadata": {},
   "outputs": [],
   "source": []
  },
  {
   "cell_type": "code",
   "execution_count": null,
   "metadata": {},
   "outputs": [],
   "source": []
  }
 ],
 "metadata": {
  "kernelspec": {
   "display_name": "Python 3",
   "language": "python",
   "name": "python3"
  },
  "language_info": {
   "codemirror_mode": {
    "name": "ipython",
    "version": 3
   },
   "file_extension": ".py",
   "mimetype": "text/x-python",
   "name": "python",
   "nbconvert_exporter": "python",
   "pygments_lexer": "ipython3",
   "version": "3.7.3"
  }
 },
 "nbformat": 4,
 "nbformat_minor": 2
}
